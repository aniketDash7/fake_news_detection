{
 "cells": [
  {
   "cell_type": "markdown",
   "metadata": {},
   "source": [
    "# Importing necessary libraries "
   ]
  },
  {
   "cell_type": "code",
   "execution_count": 1,
   "metadata": {},
   "outputs": [],
   "source": [
    "import pandas as pd\n",
    "import numpy as np \n",
    "import os \n",
    "import re\n",
    "from sklearn.model_selection import train_test_split\n",
    "from sklearn.feature_extraction.text import TfidfVectorizer\n",
    "from sklearn.preprocessing import LabelEncoder\n",
    "from sklearn.metrics import classification_report, log_loss, f1_score, accuracy_score\n",
    "import torch\n",
    "import torch.nn as nn\n",
    "import torch.optim as optim\n",
    "from torch.utils.data import DataLoader, Dataset, TensorDataset\n",
    "import matplotlib.pyplot as plt\n",
    "from sklearn.utils import resample\n",
    "import torch.nn.functional as F"
   ]
  },
  {
   "cell_type": "markdown",
   "metadata": {},
   "source": [
    "Reading the file "
   ]
  },
  {
   "cell_type": "code",
   "execution_count": 2,
   "metadata": {},
   "outputs": [
    {
     "data": {
      "text/html": [
       "<div>\n",
       "<style scoped>\n",
       "    .dataframe tbody tr th:only-of-type {\n",
       "        vertical-align: middle;\n",
       "    }\n",
       "\n",
       "    .dataframe tbody tr th {\n",
       "        vertical-align: top;\n",
       "    }\n",
       "\n",
       "    .dataframe thead th {\n",
       "        text-align: right;\n",
       "    }\n",
       "</style>\n",
       "<table border=\"1\" class=\"dataframe\">\n",
       "  <thead>\n",
       "    <tr style=\"text-align: right;\">\n",
       "      <th></th>\n",
       "      <th>ID</th>\n",
       "      <th>News/Comment</th>\n",
       "      <th>Type</th>\n",
       "    </tr>\n",
       "  </thead>\n",
       "  <tbody>\n",
       "    <tr>\n",
       "      <th>0</th>\n",
       "      <td>TRAIN_1</td>\n",
       "      <td>കേള്‍വി തകരാറുള്ള കുട്ടികള്‍ക്ക് നടത്തുന്ന സൗജ...</td>\n",
       "      <td>FALSE</td>\n",
       "    </tr>\n",
       "    <tr>\n",
       "      <th>1</th>\n",
       "      <td>TRAIN_2</td>\n",
       "      <td>ചന്ദ്രയാന് കേരള മുഖ്യമന്ത്രി പിണറായി വിജയൻ മാത...</td>\n",
       "      <td>FALSE</td>\n",
       "    </tr>\n",
       "    <tr>\n",
       "      <th>2</th>\n",
       "      <td>TRAIN_3</td>\n",
       "      <td>പിണറായി വിജയന്‍ സര്‍ക്കാര്‍ നിര്‍മിച്ച കേരളത്ത...</td>\n",
       "      <td>FALSE</td>\n",
       "    </tr>\n",
       "    <tr>\n",
       "      <th>3</th>\n",
       "      <td>TRAIN_4</td>\n",
       "      <td>മുഖ്യമന്ത്രിയുടെ ബിനാമി എന്ന് സ്വർണക്കടത്തു കേ...</td>\n",
       "      <td>FALSE</td>\n",
       "    </tr>\n",
       "    <tr>\n",
       "      <th>4</th>\n",
       "      <td>TRAIN_5</td>\n",
       "      <td>പിണറായി വിജയന്‍ ഇടപെട്ട് കേരളത്തില്‍ നിന്നുള്ള...</td>\n",
       "      <td>FALSE</td>\n",
       "    </tr>\n",
       "  </tbody>\n",
       "</table>\n",
       "</div>"
      ],
      "text/plain": [
       "        ID                                       News/Comment   Type\n",
       "0  TRAIN_1  കേള്‍വി തകരാറുള്ള കുട്ടികള്‍ക്ക് നടത്തുന്ന സൗജ...  FALSE\n",
       "1  TRAIN_2  ചന്ദ്രയാന് കേരള മുഖ്യമന്ത്രി പിണറായി വിജയൻ മാത...  FALSE\n",
       "2  TRAIN_3  പിണറായി വിജയന്‍ സര്‍ക്കാര്‍ നിര്‍മിച്ച കേരളത്ത...  FALSE\n",
       "3  TRAIN_4  മുഖ്യമന്ത്രിയുടെ ബിനാമി എന്ന് സ്വർണക്കടത്തു കേ...  FALSE\n",
       "4  TRAIN_5  പിണറായി വിജയന്‍ ഇടപെട്ട് കേരളത്തില്‍ നിന്നുള്ള...  FALSE"
      ]
     },
     "execution_count": 2,
     "metadata": {},
     "output_type": "execute_result"
    }
   ],
   "source": [
    "df = pd.read_csv('labelled_train_set.csv')\n",
    "df.head()"
   ]
  },
  {
   "cell_type": "markdown",
   "metadata": {},
   "source": [
    "Checking for missing values and dropping them"
   ]
  },
  {
   "cell_type": "code",
   "execution_count": 3,
   "metadata": {},
   "outputs": [
    {
     "data": {
      "text/plain": [
       "array(['FALSE', 'HALF TRUE', 'MOSTLY FALSE', 'PARTLY FALSE',\n",
       "       'MOSTLY TRUE'], dtype=object)"
      ]
     },
     "execution_count": 3,
     "metadata": {},
     "output_type": "execute_result"
    }
   ],
   "source": [
    "df['Type'].unique()"
   ]
  },
  {
   "cell_type": "code",
   "execution_count": 4,
   "metadata": {},
   "outputs": [
    {
     "name": "stdout",
     "output_type": "stream",
     "text": [
      "FALSE\n",
      "HALF TRUE\n",
      "MOSTLY FALSE\n",
      "PARTLY FALSE\n",
      "MOSTLY TRUE\n"
     ]
    }
   ],
   "source": [
    "for i in df['Type'].unique():\n",
    "    print(i)"
   ]
  },
  {
   "cell_type": "code",
   "execution_count": 5,
   "metadata": {},
   "outputs": [
    {
     "name": "stdout",
     "output_type": "stream",
     "text": [
      "Number of instances in FALSE class :Type\n",
      "FALSE    1130\n",
      "Name: count, dtype: int64\n",
      "Number of instances in HALF TRUE class :Type\n",
      "HALF TRUE    138\n",
      "Name: count, dtype: int64\n",
      "Number of instances in MOSTLY FALSE class :Type\n",
      "MOSTLY FALSE    230\n",
      "Name: count, dtype: int64\n",
      "Number of instances in PARTLY FALSE class :Type\n",
      "PARTLY FALSE    38\n",
      "Name: count, dtype: int64\n",
      "Number of instances in MOSTLY TRUE class :Type\n",
      "MOSTLY TRUE    1\n",
      "Name: count, dtype: int64\n"
     ]
    }
   ],
   "source": [
    "for i in df['Type'].unique():\n",
    "    print(f\"Number of instances in {i} class :{df[df['Type'] == i]['Type'].value_counts()}\")"
   ]
  },
  {
   "cell_type": "code",
   "execution_count": 6,
   "metadata": {},
   "outputs": [
    {
     "data": {
      "text/plain": [
       "ID              0\n",
       "News/Comment    0\n",
       "Type            0\n",
       "dtype: int64"
      ]
     },
     "execution_count": 6,
     "metadata": {},
     "output_type": "execute_result"
    }
   ],
   "source": [
    "df = df.dropna(subset=['News/Comment'])\n",
    "df.isna().sum()"
   ]
  },
  {
   "cell_type": "markdown",
   "metadata": {},
   "source": [
    "Upsampling the 'MOSTLY TRUE' Class because it had only one instance "
   ]
  },
  {
   "cell_type": "code",
   "execution_count": 7,
   "metadata": {},
   "outputs": [],
   "source": [
    "df_minority = df[df['Type'] == 'MOSTLY TRUE']\n",
    "df_minority_upsampled = resample(df_minority, replace=True, n_samples=2, random_state=42)\n",
    "df_upsampled = pd.concat([df[df['Type'] != 'MOSTLY TRUE'], df_minority_upsampled])\n",
    "df_upsampled = df_upsampled.drop(columns=['ID'])"
   ]
  },
  {
   "cell_type": "markdown",
   "metadata": {},
   "source": [
    "Encoding the labels"
   ]
  },
  {
   "cell_type": "code",
   "execution_count": 8,
   "metadata": {},
   "outputs": [],
   "source": [
    "le = LabelEncoder()\n",
    "df_upsampled['Type'] = le.fit_transform(df_upsampled['Type'])"
   ]
  },
  {
   "cell_type": "markdown",
   "metadata": {},
   "source": [
    "Adding some features to better capture the meaning and context "
   ]
  },
  {
   "cell_type": "code",
   "execution_count": 9,
   "metadata": {},
   "outputs": [
    {
     "data": {
      "text/html": [
       "<div>\n",
       "<style scoped>\n",
       "    .dataframe tbody tr th:only-of-type {\n",
       "        vertical-align: middle;\n",
       "    }\n",
       "\n",
       "    .dataframe tbody tr th {\n",
       "        vertical-align: top;\n",
       "    }\n",
       "\n",
       "    .dataframe thead th {\n",
       "        text-align: right;\n",
       "    }\n",
       "</style>\n",
       "<table border=\"1\" class=\"dataframe\">\n",
       "  <thead>\n",
       "    <tr style=\"text-align: right;\">\n",
       "      <th></th>\n",
       "      <th>News/Comment</th>\n",
       "      <th>Type</th>\n",
       "      <th>length</th>\n",
       "    </tr>\n",
       "  </thead>\n",
       "  <tbody>\n",
       "    <tr>\n",
       "      <th>0</th>\n",
       "      <td>കേള്‍വി തകരാറുള്ള കുട്ടികള്‍ക്ക് നടത്തുന്ന സൗജ...</td>\n",
       "      <td>0</td>\n",
       "      <td>120</td>\n",
       "    </tr>\n",
       "    <tr>\n",
       "      <th>1</th>\n",
       "      <td>ചന്ദ്രയാന് കേരള മുഖ്യമന്ത്രി പിണറായി വിജയൻ മാത...</td>\n",
       "      <td>0</td>\n",
       "      <td>66</td>\n",
       "    </tr>\n",
       "    <tr>\n",
       "      <th>2</th>\n",
       "      <td>പിണറായി വിജയന്‍ സര്‍ക്കാര്‍ നിര്‍മിച്ച കേരളത്ത...</td>\n",
       "      <td>0</td>\n",
       "      <td>77</td>\n",
       "    </tr>\n",
       "    <tr>\n",
       "      <th>3</th>\n",
       "      <td>മുഖ്യമന്ത്രിയുടെ ബിനാമി എന്ന് സ്വർണക്കടത്തു കേ...</td>\n",
       "      <td>0</td>\n",
       "      <td>136</td>\n",
       "    </tr>\n",
       "    <tr>\n",
       "      <th>4</th>\n",
       "      <td>പിണറായി വിജയന്‍ ഇടപെട്ട് കേരളത്തില്‍ നിന്നുള്ള...</td>\n",
       "      <td>0</td>\n",
       "      <td>162</td>\n",
       "    </tr>\n",
       "  </tbody>\n",
       "</table>\n",
       "</div>"
      ],
      "text/plain": [
       "                                        News/Comment  Type  length\n",
       "0  കേള്‍വി തകരാറുള്ള കുട്ടികള്‍ക്ക് നടത്തുന്ന സൗജ...     0     120\n",
       "1  ചന്ദ്രയാന് കേരള മുഖ്യമന്ത്രി പിണറായി വിജയൻ മാത...     0      66\n",
       "2  പിണറായി വിജയന്‍ സര്‍ക്കാര്‍ നിര്‍മിച്ച കേരളത്ത...     0      77\n",
       "3  മുഖ്യമന്ത്രിയുടെ ബിനാമി എന്ന് സ്വർണക്കടത്തു കേ...     0     136\n",
       "4  പിണറായി വിജയന്‍ ഇടപെട്ട് കേരളത്തില്‍ നിന്നുള്ള...     0     162"
      ]
     },
     "execution_count": 9,
     "metadata": {},
     "output_type": "execute_result"
    }
   ],
   "source": [
    "df_upsampled['length'] = df['News/Comment'].apply(len)\n",
    "df_upsampled.head()"
   ]
  },
  {
   "cell_type": "code",
   "execution_count": 10,
   "metadata": {},
   "outputs": [],
   "source": [
    "def count_unique_words(text):\n",
    "    words = text.split()\n",
    "    unique_words = set(words)\n",
    "    return len(unique_words)"
   ]
  },
  {
   "cell_type": "code",
   "execution_count": 11,
   "metadata": {},
   "outputs": [
    {
     "data": {
      "text/html": [
       "<div>\n",
       "<style scoped>\n",
       "    .dataframe tbody tr th:only-of-type {\n",
       "        vertical-align: middle;\n",
       "    }\n",
       "\n",
       "    .dataframe tbody tr th {\n",
       "        vertical-align: top;\n",
       "    }\n",
       "\n",
       "    .dataframe thead th {\n",
       "        text-align: right;\n",
       "    }\n",
       "</style>\n",
       "<table border=\"1\" class=\"dataframe\">\n",
       "  <thead>\n",
       "    <tr style=\"text-align: right;\">\n",
       "      <th></th>\n",
       "      <th>News/Comment</th>\n",
       "      <th>Type</th>\n",
       "      <th>length</th>\n",
       "      <th>unique_words</th>\n",
       "    </tr>\n",
       "  </thead>\n",
       "  <tbody>\n",
       "    <tr>\n",
       "      <th>0</th>\n",
       "      <td>കേള്‍വി തകരാറുള്ള കുട്ടികള്‍ക്ക് നടത്തുന്ന സൗജ...</td>\n",
       "      <td>0</td>\n",
       "      <td>120</td>\n",
       "      <td>11</td>\n",
       "    </tr>\n",
       "    <tr>\n",
       "      <th>1</th>\n",
       "      <td>ചന്ദ്രയാന് കേരള മുഖ്യമന്ത്രി പിണറായി വിജയൻ മാത...</td>\n",
       "      <td>0</td>\n",
       "      <td>66</td>\n",
       "      <td>8</td>\n",
       "    </tr>\n",
       "    <tr>\n",
       "      <th>2</th>\n",
       "      <td>പിണറായി വിജയന്‍ സര്‍ക്കാര്‍ നിര്‍മിച്ച കേരളത്ത...</td>\n",
       "      <td>0</td>\n",
       "      <td>77</td>\n",
       "      <td>8</td>\n",
       "    </tr>\n",
       "    <tr>\n",
       "      <th>3</th>\n",
       "      <td>മുഖ്യമന്ത്രിയുടെ ബിനാമി എന്ന് സ്വർണക്കടത്തു കേ...</td>\n",
       "      <td>0</td>\n",
       "      <td>136</td>\n",
       "      <td>15</td>\n",
       "    </tr>\n",
       "    <tr>\n",
       "      <th>4</th>\n",
       "      <td>പിണറായി വിജയന്‍ ഇടപെട്ട് കേരളത്തില്‍ നിന്നുള്ള...</td>\n",
       "      <td>0</td>\n",
       "      <td>162</td>\n",
       "      <td>17</td>\n",
       "    </tr>\n",
       "  </tbody>\n",
       "</table>\n",
       "</div>"
      ],
      "text/plain": [
       "                                        News/Comment  Type  length  \\\n",
       "0  കേള്‍വി തകരാറുള്ള കുട്ടികള്‍ക്ക് നടത്തുന്ന സൗജ...     0     120   \n",
       "1  ചന്ദ്രയാന് കേരള മുഖ്യമന്ത്രി പിണറായി വിജയൻ മാത...     0      66   \n",
       "2  പിണറായി വിജയന്‍ സര്‍ക്കാര്‍ നിര്‍മിച്ച കേരളത്ത...     0      77   \n",
       "3  മുഖ്യമന്ത്രിയുടെ ബിനാമി എന്ന് സ്വർണക്കടത്തു കേ...     0     136   \n",
       "4  പിണറായി വിജയന്‍ ഇടപെട്ട് കേരളത്തില്‍ നിന്നുള്ള...     0     162   \n",
       "\n",
       "   unique_words  \n",
       "0            11  \n",
       "1             8  \n",
       "2             8  \n",
       "3            15  \n",
       "4            17  "
      ]
     },
     "execution_count": 11,
     "metadata": {},
     "output_type": "execute_result"
    }
   ],
   "source": [
    "df_upsampled['unique_words'] = df_upsampled['News/Comment'].apply(count_unique_words)\n",
    "df_upsampled.head()"
   ]
  },
  {
   "cell_type": "code",
   "execution_count": 12,
   "metadata": {},
   "outputs": [],
   "source": [
    "def calculate_ttr(text):\n",
    "    words = text.split()\n",
    "    unique_words = set(words)\n",
    "    if len(words) == 0:\n",
    "        return 0\n",
    "    \n",
    "    ttr = len(unique_words)/len(words)\n",
    "    return ttr \n"
   ]
  },
  {
   "cell_type": "code",
   "execution_count": 13,
   "metadata": {},
   "outputs": [],
   "source": [
    "df_upsampled['ttr_ratio'] = df_upsampled['News/Comment'].apply(calculate_ttr)"
   ]
  },
  {
   "cell_type": "code",
   "execution_count": 14,
   "metadata": {},
   "outputs": [],
   "source": [
    "x = df_upsampled.drop(columns=['Type'])\n",
    "y = df_upsampled['Type']"
   ]
  },
  {
   "cell_type": "code",
   "execution_count": 15,
   "metadata": {},
   "outputs": [],
   "source": [
    "x_train,x_test, y_train, y_test = train_test_split(x, y, test_size=0.2, stratify=y)"
   ]
  },
  {
   "cell_type": "code",
   "execution_count": 16,
   "metadata": {},
   "outputs": [
    {
     "name": "stderr",
     "output_type": "stream",
     "text": [
      "c:\\Users\\anike\\anaconda3\\Lib\\site-packages\\sklearn\\feature_extraction\\text.py:525: UserWarning: The parameter 'token_pattern' will not be used since 'tokenizer' is not None'\n",
      "  warnings.warn(\n"
     ]
    }
   ],
   "source": [
    "vectorizer = TfidfVectorizer(\n",
    "    ngram_range=(1,5),\n",
    "    tokenizer=lambda x:re.findall(r'[^\\W]+',x),\n",
    "    max_features=100000\n",
    ")\n",
    "X_train_vec = vectorizer.fit_transform(x_train['News/Comment']).toarray()\n",
    "X_test_vec = vectorizer.transform(x_test['News/Comment']).toarray()"
   ]
  },
  {
   "cell_type": "code",
   "execution_count": 17,
   "metadata": {},
   "outputs": [],
   "source": [
    "vectorizer = TfidfVectorizer(\n",
    "    ngram_range=(1,5),\n",
    "    tokenizer=lambda x:re.findall(r'[^\\W]+',x),\n",
    "    max_features=100000\n",
    ")\n",
    "X_train_vec = vectorizer.fit_transform(x_train['News/Comment']).toarray()\n",
    "X_test_vec = vectorizer.transform(x_test['News/Comment']).toarray()"
   ]
  },
  {
   "cell_type": "code",
   "execution_count": 18,
   "metadata": {},
   "outputs": [],
   "source": [
    "additional_features_train = x_train[['length', 'unique_words', 'ttr_ratio']].values\n",
    "additional_features_test = x_test[['length', 'unique_words', 'ttr_ratio']].values\n",
    "X_train_combined = np.hstack([X_train_vec, additional_features_train])\n",
    "X_test_combined = np.hstack([X_test_vec, additional_features_test])"
   ]
  },
  {
   "cell_type": "code",
   "execution_count": 19,
   "metadata": {},
   "outputs": [],
   "source": [
    "x_train_tensor = torch.tensor(X_train_combined,dtype=torch.float32)\n",
    "x_test_tensor = torch.tensor(X_test_combined,dtype=torch.float32)\n",
    "y_train_tensor = torch.tensor(y_train.values,dtype=torch.long)\n",
    "y_test_tensor = torch.tensor(y_test.values,dtype=torch.long)"
   ]
  },
  {
   "cell_type": "code",
   "execution_count": 20,
   "metadata": {},
   "outputs": [],
   "source": [
    "train_dataset = TensorDataset(x_train_tensor,y_train_tensor)\n",
    "test_dataset = TensorDataset(x_test_tensor,y_test_tensor)\n",
    "train_loader = DataLoader(train_dataset,batch_size=32,shuffle=True)\n",
    "test_loader = DataLoader(test_dataset,batch_size=32,shuffle=False)"
   ]
  },
  {
   "cell_type": "code",
   "execution_count": 21,
   "metadata": {},
   "outputs": [],
   "source": [
    "\n",
    "\n",
    "class Classifier(nn.Module):\n",
    "    def __init__(self, input_dim, output_dim):\n",
    "        super(Classifier, self).__init__()\n",
    "        self.fc1 = nn.Linear(input_dim, 512)\n",
    "        self.dropout1 = nn.Dropout(0.5)\n",
    "        self.fc2 = nn.Linear(512, 256)\n",
    "        self.dropout2 = nn.Dropout(0.5)\n",
    "        self.fc3 = nn.Linear(256, output_dim)\n",
    "        self.softmax = nn.Softmax(dim=1)\n",
    "\n",
    "    def forward(self, x):\n",
    "        x = torch.tanh(self.fc1(x))\n",
    "        x = self.dropout1(x)\n",
    "        x = torch.tanh(self.fc2(x))\n",
    "        x = self.dropout2(x)\n",
    "        x = self.fc3(x)\n",
    "        x = self.softmax(x)\n",
    "        return x\n"
   ]
  },
  {
   "cell_type": "code",
   "execution_count": 22,
   "metadata": {},
   "outputs": [],
   "source": [
    "\n",
    "input_dim = X_train_combined.shape[1]\n",
    "output_dim = len(le.classes_)"
   ]
  },
  {
   "cell_type": "code",
   "execution_count": 23,
   "metadata": {},
   "outputs": [],
   "source": [
    "model = Classifier(input_dim, output_dim)\n",
    "criterion = nn.CrossEntropyLoss()\n",
    "optimizer = optim.Adam(model.parameters(), lr=0.001)"
   ]
  },
  {
   "cell_type": "code",
   "execution_count": 24,
   "metadata": {},
   "outputs": [
    {
     "data": {
      "text/plain": [
       "<bound method Module.named_parameters of Classifier(\n",
       "  (fc1): Linear(in_features=93837, out_features=512, bias=True)\n",
       "  (dropout1): Dropout(p=0.5, inplace=False)\n",
       "  (fc2): Linear(in_features=512, out_features=256, bias=True)\n",
       "  (dropout2): Dropout(p=0.5, inplace=False)\n",
       "  (fc3): Linear(in_features=256, out_features=5, bias=True)\n",
       "  (softmax): Softmax(dim=1)\n",
       ")>"
      ]
     },
     "execution_count": 24,
     "metadata": {},
     "output_type": "execute_result"
    }
   ],
   "source": [
    "model.named_parameters\n"
   ]
  },
  {
   "cell_type": "code",
   "execution_count": 25,
   "metadata": {},
   "outputs": [
    {
     "name": "stdout",
     "output_type": "stream",
     "text": [
      "Using device: cuda\n"
     ]
    },
    {
     "data": {
      "text/plain": [
       "'NVIDIA GeForce GTX 1650 Ti'"
      ]
     },
     "execution_count": 25,
     "metadata": {},
     "output_type": "execute_result"
    }
   ],
   "source": [
    "device = torch.device(\"cuda\" if torch.cuda.is_available() else \"cpu\")\n",
    "print(f'Using device: {device}')\n",
    "torch.cuda.get_device_name()"
   ]
  },
  {
   "cell_type": "code",
   "execution_count": 26,
   "metadata": {},
   "outputs": [],
   "source": [
    "model = model.to(device)\n",
    "x_train_tensor = x_train_tensor.to(device)\n",
    "x_test_tensor = x_test_tensor.to(device)\n",
    "y_train_tensor = y_train_tensor.to(device)\n",
    "y_test_tensor = y_test_tensor.to(device)"
   ]
  },
  {
   "cell_type": "code",
   "execution_count": 27,
   "metadata": {},
   "outputs": [
    {
     "name": "stdout",
     "output_type": "stream",
     "text": [
      "Epoch 1/100, Training Loss: 1.1964, Testing Loss: 1.1711\n",
      "Epoch 2/100, Training Loss: 1.1703, Testing Loss: 1.1711\n",
      "Epoch 3/100, Training Loss: 1.1703, Testing Loss: 1.1711\n",
      "Epoch 4/100, Training Loss: 1.1703, Testing Loss: 1.1711\n",
      "Epoch 5/100, Training Loss: 1.1703, Testing Loss: 1.1711\n",
      "Epoch 6/100, Training Loss: 1.1703, Testing Loss: 1.1711\n",
      "Epoch 7/100, Training Loss: 1.1703, Testing Loss: 1.1711\n",
      "Epoch 8/100, Training Loss: 1.1703, Testing Loss: 1.1711\n",
      "Epoch 9/100, Training Loss: 1.1703, Testing Loss: 1.1711\n",
      "Epoch 10/100, Training Loss: 1.1703, Testing Loss: 1.1711\n",
      "Epoch 11/100, Training Loss: 1.1703, Testing Loss: 1.1711\n",
      "Epoch 12/100, Training Loss: 1.1703, Testing Loss: 1.1711\n",
      "Epoch 13/100, Training Loss: 1.1703, Testing Loss: 1.1711\n",
      "Epoch 14/100, Training Loss: 1.1703, Testing Loss: 1.1711\n",
      "Epoch 15/100, Training Loss: 1.1703, Testing Loss: 1.1711\n",
      "Epoch 16/100, Training Loss: 1.1703, Testing Loss: 1.1711\n",
      "Epoch 17/100, Training Loss: 1.1703, Testing Loss: 1.1711\n",
      "Epoch 18/100, Training Loss: 1.1703, Testing Loss: 1.1711\n",
      "Epoch 19/100, Training Loss: 1.1703, Testing Loss: 1.1711\n",
      "Epoch 20/100, Training Loss: 1.1703, Testing Loss: 1.1711\n",
      "Epoch 21/100, Training Loss: 1.1703, Testing Loss: 1.1711\n",
      "Epoch 22/100, Training Loss: 1.1703, Testing Loss: 1.1711\n",
      "Epoch 23/100, Training Loss: 1.1703, Testing Loss: 1.1711\n",
      "Epoch 24/100, Training Loss: 1.1703, Testing Loss: 1.1711\n",
      "Epoch 25/100, Training Loss: 1.1703, Testing Loss: 1.1711\n",
      "Epoch 26/100, Training Loss: 1.1703, Testing Loss: 1.1711\n",
      "Epoch 27/100, Training Loss: 1.1703, Testing Loss: 1.1711\n",
      "Epoch 28/100, Training Loss: 1.1703, Testing Loss: 1.1711\n",
      "Epoch 29/100, Training Loss: 1.1703, Testing Loss: 1.1711\n",
      "Epoch 30/100, Training Loss: 1.1703, Testing Loss: 1.1711\n",
      "Epoch 31/100, Training Loss: 1.1703, Testing Loss: 1.1711\n",
      "Epoch 32/100, Training Loss: 1.1703, Testing Loss: 1.1711\n",
      "Epoch 33/100, Training Loss: 1.1703, Testing Loss: 1.1711\n",
      "Epoch 34/100, Training Loss: 1.1703, Testing Loss: 1.1711\n",
      "Epoch 35/100, Training Loss: 1.1703, Testing Loss: 1.1711\n",
      "Epoch 36/100, Training Loss: 1.1703, Testing Loss: 1.1711\n",
      "Epoch 37/100, Training Loss: 1.1701, Testing Loss: 1.1711\n",
      "Epoch 38/100, Training Loss: 1.1699, Testing Loss: 1.1711\n",
      "Epoch 39/100, Training Loss: 1.1695, Testing Loss: 1.1711\n",
      "Epoch 40/100, Training Loss: 1.1695, Testing Loss: 1.1711\n",
      "Epoch 41/100, Training Loss: 1.1695, Testing Loss: 1.1711\n",
      "Epoch 42/100, Training Loss: 1.1694, Testing Loss: 1.1711\n",
      "Epoch 43/100, Training Loss: 1.1687, Testing Loss: 1.1711\n",
      "Epoch 44/100, Training Loss: 1.1687, Testing Loss: 1.1711\n",
      "Epoch 45/100, Training Loss: 1.1686, Testing Loss: 1.1711\n",
      "Epoch 46/100, Training Loss: 1.1686, Testing Loss: 1.1711\n",
      "Epoch 47/100, Training Loss: 1.1683, Testing Loss: 1.1711\n",
      "Epoch 48/100, Training Loss: 1.1680, Testing Loss: 1.1739\n",
      "Epoch 49/100, Training Loss: 1.1686, Testing Loss: 1.1711\n",
      "Epoch 50/100, Training Loss: 1.1623, Testing Loss: 1.1745\n",
      "Epoch 51/100, Training Loss: 1.1628, Testing Loss: 1.1713\n",
      "Epoch 52/100, Training Loss: 1.1586, Testing Loss: 1.1711\n",
      "Epoch 53/100, Training Loss: 1.1460, Testing Loss: 1.2153\n",
      "Epoch 54/100, Training Loss: 1.1401, Testing Loss: 1.1711\n",
      "Epoch 55/100, Training Loss: 1.1588, Testing Loss: 1.1711\n",
      "Epoch 56/100, Training Loss: 1.1375, Testing Loss: 1.2212\n",
      "Epoch 57/100, Training Loss: 1.1104, Testing Loss: 1.1890\n",
      "Epoch 58/100, Training Loss: 1.1483, Testing Loss: 1.1711\n",
      "Epoch 59/100, Training Loss: 1.1492, Testing Loss: 1.1802\n",
      "Epoch 60/100, Training Loss: 1.0791, Testing Loss: 1.2118\n",
      "Epoch 61/100, Training Loss: 1.0603, Testing Loss: 1.1847\n",
      "Epoch 62/100, Training Loss: 1.0683, Testing Loss: 1.2093\n",
      "Epoch 63/100, Training Loss: 1.0286, Testing Loss: 1.2859\n",
      "Epoch 64/100, Training Loss: 1.0347, Testing Loss: 1.2209\n",
      "Epoch 65/100, Training Loss: 1.0069, Testing Loss: 1.2759\n",
      "Epoch 66/100, Training Loss: 1.0063, Testing Loss: 1.2572\n",
      "Epoch 67/100, Training Loss: 0.9952, Testing Loss: 1.2511\n",
      "Epoch 68/100, Training Loss: 0.9908, Testing Loss: 1.3289\n",
      "Epoch 69/100, Training Loss: 0.9834, Testing Loss: 1.2360\n",
      "Epoch 70/100, Training Loss: 0.9695, Testing Loss: 1.2667\n",
      "Epoch 71/100, Training Loss: 0.9572, Testing Loss: 1.1999\n",
      "Epoch 72/100, Training Loss: 0.9633, Testing Loss: 1.2375\n",
      "Epoch 73/100, Training Loss: 0.9510, Testing Loss: 1.2462\n",
      "Epoch 74/100, Training Loss: 0.9461, Testing Loss: 1.2071\n",
      "Epoch 75/100, Training Loss: 0.9466, Testing Loss: 1.3323\n",
      "Epoch 76/100, Training Loss: 0.9383, Testing Loss: 1.2401\n",
      "Epoch 77/100, Training Loss: 0.9359, Testing Loss: 1.2122\n",
      "Epoch 78/100, Training Loss: 0.9374, Testing Loss: 1.2949\n",
      "Epoch 79/100, Training Loss: 0.9354, Testing Loss: 1.3488\n",
      "Epoch 80/100, Training Loss: 0.9352, Testing Loss: 1.2728\n",
      "Epoch 81/100, Training Loss: 0.9337, Testing Loss: 1.2736\n",
      "Epoch 82/100, Training Loss: 0.9326, Testing Loss: 1.3134\n",
      "Epoch 83/100, Training Loss: 0.9312, Testing Loss: 1.3325\n",
      "Epoch 84/100, Training Loss: 0.9383, Testing Loss: 1.2376\n",
      "Epoch 85/100, Training Loss: 0.9373, Testing Loss: 1.1949\n",
      "Epoch 86/100, Training Loss: 0.9288, Testing Loss: 1.3409\n",
      "Epoch 87/100, Training Loss: 0.9312, Testing Loss: 1.2965\n",
      "Epoch 88/100, Training Loss: 0.9316, Testing Loss: 1.2901\n",
      "Epoch 89/100, Training Loss: 0.9288, Testing Loss: 1.2173\n",
      "Epoch 90/100, Training Loss: 0.9254, Testing Loss: 1.2959\n",
      "Epoch 91/100, Training Loss: 0.9223, Testing Loss: 1.4801\n",
      "Epoch 92/100, Training Loss: 0.9169, Testing Loss: 1.4352\n",
      "Epoch 93/100, Training Loss: 0.9190, Testing Loss: 1.3154\n",
      "Epoch 94/100, Training Loss: 0.9169, Testing Loss: 1.2177\n",
      "Epoch 95/100, Training Loss: 0.9220, Testing Loss: 1.2099\n",
      "Epoch 96/100, Training Loss: 0.9170, Testing Loss: 1.4179\n",
      "Epoch 97/100, Training Loss: 0.9185, Testing Loss: 1.2169\n",
      "Epoch 98/100, Training Loss: 0.9130, Testing Loss: 1.2406\n",
      "Epoch 99/100, Training Loss: 0.9109, Testing Loss: 1.2356\n",
      "Epoch 100/100, Training Loss: 0.9107, Testing Loss: 1.2658\n"
     ]
    }
   ],
   "source": [
    "epochs = 100\n",
    "training_losses = []\n",
    "testing_losses = []\n",
    "\n",
    "for epoch in range(epochs):\n",
    "    model.train()\n",
    "    train_loss = 0.0\n",
    "    for inputs, labels in train_loader:\n",
    "    \n",
    "        inputs, labels = inputs.to(device), labels.to(device)\n",
    "        \n",
    "        optimizer.zero_grad()\n",
    "        outputs = model(inputs)\n",
    "        loss = criterion(outputs, labels)\n",
    "        loss.backward()\n",
    "        optimizer.step()\n",
    "        train_loss += loss.item() * inputs.size(0)\n",
    "    \n",
    "    train_loss = train_loss / len(train_loader.dataset)\n",
    "    training_losses.append(train_loss)\n",
    "\n",
    "    model.eval()\n",
    "    test_loss = 0.0\n",
    "    with torch.no_grad():\n",
    "        for inputs, labels in test_loader:\n",
    "            \n",
    "            inputs, labels = inputs.to(device), labels.to(device)\n",
    "            \n",
    "            outputs = model(inputs)  \n",
    "            loss = criterion(outputs, labels)\n",
    "            test_loss += loss.item() * inputs.size(0)\n",
    "    \n",
    "    test_loss = test_loss / len(test_loader.dataset)\n",
    "    testing_losses.append(test_loss)\n",
    "    \n",
    "    print(f'Epoch {epoch+1}/{epochs}, Training Loss: {train_loss:.4f}, Testing Loss: {test_loss:.4f}')\n"
   ]
  },
  {
   "cell_type": "code",
   "execution_count": 28,
   "metadata": {},
   "outputs": [
    {
     "name": "stdout",
     "output_type": "stream",
     "text": [
      "Macro F1 Score: 0.2550\n",
      "Accuracy Score: 0.6299\n",
      "              precision    recall  f1-score   support\n",
      "\n",
      "       FALSE       0.76      0.83      0.79       226\n",
      "   HALF TRUE       0.14      0.04      0.06        28\n",
      "MOSTLY FALSE       0.20      0.09      0.12        46\n",
      " MOSTLY TRUE       0.00      0.00      0.00         0\n",
      "PARTLY FALSE       0.03      0.12      0.05         8\n",
      "\n",
      "   micro avg       0.63      0.63      0.63       308\n",
      "   macro avg       0.23      0.22      0.20       308\n",
      "weighted avg       0.60      0.63      0.61       308\n",
      "\n"
     ]
    },
    {
     "name": "stderr",
     "output_type": "stream",
     "text": [
      "c:\\Users\\anike\\anaconda3\\Lib\\site-packages\\sklearn\\metrics\\_classification.py:1509: UndefinedMetricWarning: Precision is ill-defined and being set to 0.0 in labels with no predicted samples. Use `zero_division` parameter to control this behavior.\n",
      "  _warn_prf(average, modifier, f\"{metric.capitalize()} is\", len(result))\n",
      "c:\\Users\\anike\\anaconda3\\Lib\\site-packages\\sklearn\\metrics\\_classification.py:1509: UndefinedMetricWarning: Recall is ill-defined and being set to 0.0 in labels with no true samples. Use `zero_division` parameter to control this behavior.\n",
      "  _warn_prf(average, modifier, f\"{metric.capitalize()} is\", len(result))\n",
      "c:\\Users\\anike\\anaconda3\\Lib\\site-packages\\sklearn\\metrics\\_classification.py:1509: UndefinedMetricWarning: F-score is ill-defined and being set to 0.0 in labels with no true nor predicted samples. Use `zero_division` parameter to control this behavior.\n",
      "  _warn_prf(average, modifier, f\"{metric.capitalize()} is\", len(result))\n",
      "c:\\Users\\anike\\anaconda3\\Lib\\site-packages\\sklearn\\metrics\\_classification.py:1509: UndefinedMetricWarning: Precision is ill-defined and being set to 0.0 in labels with no predicted samples. Use `zero_division` parameter to control this behavior.\n",
      "  _warn_prf(average, modifier, f\"{metric.capitalize()} is\", len(result))\n",
      "c:\\Users\\anike\\anaconda3\\Lib\\site-packages\\sklearn\\metrics\\_classification.py:1509: UndefinedMetricWarning: Recall is ill-defined and being set to 0.0 in labels with no true samples. Use `zero_division` parameter to control this behavior.\n",
      "  _warn_prf(average, modifier, f\"{metric.capitalize()} is\", len(result))\n",
      "c:\\Users\\anike\\anaconda3\\Lib\\site-packages\\sklearn\\metrics\\_classification.py:1509: UndefinedMetricWarning: F-score is ill-defined and being set to 0.0 in labels with no true nor predicted samples. Use `zero_division` parameter to control this behavior.\n",
      "  _warn_prf(average, modifier, f\"{metric.capitalize()} is\", len(result))\n",
      "c:\\Users\\anike\\anaconda3\\Lib\\site-packages\\sklearn\\metrics\\_classification.py:1509: UndefinedMetricWarning: Precision is ill-defined and being set to 0.0 in labels with no predicted samples. Use `zero_division` parameter to control this behavior.\n",
      "  _warn_prf(average, modifier, f\"{metric.capitalize()} is\", len(result))\n",
      "c:\\Users\\anike\\anaconda3\\Lib\\site-packages\\sklearn\\metrics\\_classification.py:1509: UndefinedMetricWarning: Recall is ill-defined and being set to 0.0 in labels with no true samples. Use `zero_division` parameter to control this behavior.\n",
      "  _warn_prf(average, modifier, f\"{metric.capitalize()} is\", len(result))\n",
      "c:\\Users\\anike\\anaconda3\\Lib\\site-packages\\sklearn\\metrics\\_classification.py:1509: UndefinedMetricWarning: F-score is ill-defined and being set to 0.0 in labels with no true nor predicted samples. Use `zero_division` parameter to control this behavior.\n",
      "  _warn_prf(average, modifier, f\"{metric.capitalize()} is\", len(result))\n"
     ]
    }
   ],
   "source": [
    "model.eval()\n",
    "y_test_pred = []\n",
    "with torch.no_grad():\n",
    "    for inputs, _ in test_loader:\n",
    "\n",
    "        inputs = inputs.to(device)\n",
    " \n",
    "        outputs = model(inputs)\n",
    "\n",
    "        _, preds = torch.max(outputs, 1)\n",
    "        y_test_pred.extend(preds.cpu().numpy())\n",
    "macro_f1 = f1_score(y_test, y_test_pred, average='macro')\n",
    "accuracy = accuracy_score(y_test, y_test_pred)\n",
    "print(f'Macro F1 Score: {macro_f1:.4f}')\n",
    "print(f'Accuracy Score: {accuracy:.4f}')\n",
    "\n",
    "print(classification_report(y_test, y_test_pred, target_names=le.classes_, labels=[0, 1, 2, 3, 4]))\n"
   ]
  },
  {
   "cell_type": "code",
   "execution_count": 29,
   "metadata": {},
   "outputs": [
    {
     "data": {
      "image/png": "[encoded data removed]",
      "text/plain": [
       "<Figure size 1000x600 with 1 Axes>"
      ]
     },
     "metadata": {},
     "output_type": "display_data"
    }
   ],
   "source": [
    "plt.figure(figsize=(10, 6))\n",
    "plt.plot(range(epochs), training_losses, label='Training Loss')\n",
    "plt.plot(range(epochs), testing_losses, label='Testing Loss')\n",
    "plt.xlabel('Epochs')\n",
    "plt.ylabel('Loss')\n",
    "plt.title('Training and Testing Loss over Epochs')\n",
    "plt.legend()\n",
    "plt.grid(True)\n",
    "plt.show()"
   ]
  },
  {
   "cell_type": "code",
   "execution_count": 30,
   "metadata": {},
   "outputs": [],
   "source": [
    "utest = pd.read_csv('unlabelled_test1.csv')\n",
    "test_vectorized = vectorizer.transform(utest['News/Comment']).toarray()\n",
    "utest['length'] = utest['News/Comment'].apply(len)\n",
    "utest['unique_words'] = utest['News/Comment'].apply(count_unique_words)\n",
    "utest['ttr_ratio'] = utest['News/Comment'].apply(calculate_ttr)\n"
   ]
  },
  {
   "cell_type": "code",
   "execution_count": 31,
   "metadata": {},
   "outputs": [],
   "source": [
    "add_utest = utest[['length', 'unique_words', 'ttr_ratio']].values\n",
    "X_test_final = np.hstack([test_vectorized, add_utest])\n",
    "final_tensor = torch.tensor(X_test_final, dtype=torch.float32).to(device)\n"
   ]
  },
  {
   "cell_type": "code",
   "execution_count": 32,
   "metadata": {},
   "outputs": [
    {
     "name": "stdout",
     "output_type": "stream",
     "text": [
      "Vectorized test set's news/comment section has shape of :  (132, 93834)\n",
      "Additional features added has shape :  (132, 3)\n"
     ]
    }
   ],
   "source": [
    "print(\"Vectorized test set's news/comment section has shape of : \",test_vectorized.shape)\n",
    "print('Additional features added has shape : ',add_utest.shape)"
   ]
  },
  {
   "cell_type": "code",
   "execution_count": 33,
   "metadata": {},
   "outputs": [
    {
     "data": {
      "text/plain": [
       "torch.Size([132, 93837])"
      ]
     },
     "execution_count": 33,
     "metadata": {},
     "output_type": "execute_result"
    }
   ],
   "source": [
    "final_tensor.shape"
   ]
  },
  {
   "cell_type": "code",
   "execution_count": null,
   "metadata": {},
   "outputs": [],
   "source": []
  },
  {
   "cell_type": "code",
   "execution_count": 34,
   "metadata": {},
   "outputs": [],
   "source": [
    "model.eval()\n",
    "with torch.no_grad():\n",
    "    outputs = model(final_tensor)\n",
    "    _, preds = torch.max(outputs, 1)\n",
    "    y_test_pred = preds.cpu().numpy()\n",
    "\n",
    "submission = pd.DataFrame({\n",
    "    'ID': utest['ID'],\n",
    "    'Predicted Type': y_test_pred\n",
    "})"
   ]
  },
  {
   "cell_type": "code",
   "execution_count": 35,
   "metadata": {},
   "outputs": [
    {
     "data": {
      "text/plain": [
       "Predicted Type\n",
       "0    106\n",
       "4     13\n",
       "2      8\n",
       "1      5\n",
       "Name: count, dtype: int64"
      ]
     },
     "execution_count": 35,
     "metadata": {},
     "output_type": "execute_result"
    }
   ],
   "source": [
    "submission['Predicted Type'].value_counts()"
   ]
  },
  {
   "cell_type": "code",
   "execution_count": 36,
   "metadata": {},
   "outputs": [],
   "source": [
    "submission.to_csv('submission.csv', index=False)"
   ]
  },
  {
   "cell_type": "code",
   "execution_count": null,
   "metadata": {},
   "outputs": [],
   "source": []
  }
 ],
 "metadata": {
  "kernelspec": {
   "display_name": "base",
   "language": "python",
   "name": "python3"
  },
  "language_info": {
   "codemirror_mode": {
    "name": "ipython",
    "version": 3
   },
   "file_extension": ".py",
   "mimetype": "text/x-python",
   "name": "python",
   "nbconvert_exporter": "python",
   "pygments_lexer": "ipython3",
   "version": "3.12.3"
  }
 },
 "nbformat": 4,
 "nbformat_minor": 2
}
